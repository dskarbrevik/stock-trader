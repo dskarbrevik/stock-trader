{
 "cells": [
  {
   "cell_type": "markdown",
   "id": "7fa9d3bd-291e-4867-bc41-01f5e23904ba",
   "metadata": {},
   "source": [
    "# Aplaca test notebook"
   ]
  },
  {
   "cell_type": "markdown",
   "id": "98057803-78b5-4c9b-b8ce-39de083c6e9c",
   "metadata": {},
   "source": [
    "***"
   ]
  },
  {
   "cell_type": "markdown",
   "id": "2fdd6c0e-e735-46c7-b7cf-5d96aae3fb0e",
   "metadata": {},
   "source": [
    "## Setup\n",
    "\n",
    "Always run these blocks first."
   ]
  },
  {
   "cell_type": "code",
   "execution_count": null,
   "id": "08c6994c-7b7d-4402-b704-a0d5dfe6bea4",
   "metadata": {},
   "outputs": [],
   "source": [
    "from alpaca_trade_api.rest import REST, TimeFrame, URL\n",
    "import pandas as pd\n",
    "import json\n",
    "import logging\n",
    "logging.basicConfig(format='%(asctime)s %(message)s', level=logging.INFO)"
   ]
  },
  {
   "cell_type": "code",
   "execution_count": null,
   "id": "95ed6f54-862e-4545-bb8f-4109730c56b9",
   "metadata": {},
   "outputs": [],
   "source": [
    "with open(\"config.json\",\"rb\") as file:\n",
    "    config = json.load(file)"
   ]
  },
  {
   "cell_type": "code",
   "execution_count": null,
   "id": "0bced916-c7e6-4238-8604-378e4e79219f",
   "metadata": {},
   "outputs": [],
   "source": [
    "api = REST(key_id=config['alpaca_key_id'],\n",
    "           secret_key=config['alpaca_secret_key'],\n",
    "           base_url=URL(config['alpaca_base_url'])\n",
    "           )"
   ]
  },
  {
   "cell_type": "code",
   "execution_count": null,
   "id": "92d6af0d-7885-4136-81c8-36ed4641d59e",
   "metadata": {},
   "outputs": [],
   "source": [
    "account = api.get_account()"
   ]
  },
  {
   "cell_type": "code",
   "execution_count": null,
   "id": "e2f92674-1aa0-426f-abc1-f398e297f7c7",
   "metadata": {},
   "outputs": [],
   "source": [
    "account.status"
   ]
  },
  {
   "cell_type": "markdown",
   "id": "1366f10f-a1f8-4ae2-a745-44d90b0f9b7d",
   "metadata": {},
   "source": [
    "***"
   ]
  },
  {
   "cell_type": "markdown",
   "id": "6e16667c-2184-4959-8917-7960a3adfcb9",
   "metadata": {},
   "source": [
    "## Exploration"
   ]
  },
  {
   "cell_type": "markdown",
   "id": "ef1c6558-71f1-4076-8041-bfe5150d9d34",
   "metadata": {},
   "source": [
    "### Get Data"
   ]
  },
  {
   "cell_type": "markdown",
   "id": "34ab6fde-dcac-48d8-845b-19126418301e",
   "metadata": {},
   "source": [
    "**get_bars**"
   ]
  },
  {
   "cell_type": "code",
   "execution_count": null,
   "id": "0d9a89aa-dd32-495f-bbba-ac36a1199566",
   "metadata": {},
   "outputs": [],
   "source": [
    "result = api.get_bars(\"AAPL\", TimeFrame.Hour, \"2021-02-08\", \"2021-02-08\", limit=100, adjustment='raw').df"
   ]
  },
  {
   "cell_type": "code",
   "execution_count": null,
   "id": "6798872b-7ffe-4fa0-ae17-40ef94db13d6",
   "metadata": {},
   "outputs": [],
   "source": [
    "result.head(n=3)"
   ]
  },
  {
   "cell_type": "markdown",
   "id": "f0f3ae3d-8b50-4fbd-92d5-843e40f901ac",
   "metadata": {},
   "source": [
    "### Buy something"
   ]
  },
  {
   "cell_type": "markdown",
   "id": "37374e19-07e9-4ed5-a8b9-2e84fd96d33a",
   "metadata": {},
   "source": [
    "**submit_order**"
   ]
  },
  {
   "cell_type": "code",
   "execution_count": null,
   "id": "bd411bcd-b150-4b3a-b9f8-e866c3e8e720",
   "metadata": {},
   "outputs": [],
   "source": [
    "test = api.submit_order(symbol=\"ATVI\",\n",
    "                        qty=1,\n",
    "                        side=\"buy\",\n",
    "                        type=\"market\",\n",
    "                        time_in_force=\"day\")"
   ]
  },
  {
   "cell_type": "code",
   "execution_count": null,
   "id": "4d2084a1-743d-4bd5-9788-ade8860c14af",
   "metadata": {},
   "outputs": [],
   "source": [
    "test"
   ]
  },
  {
   "cell_type": "markdown",
   "id": "19c4bdd2-950a-4811-b371-e909e74be048",
   "metadata": {},
   "source": [
    "### Sell something"
   ]
  },
  {
   "cell_type": "code",
   "execution_count": null,
   "id": "2ed460f8-34f6-4d68-809b-5120c9b0b66c",
   "metadata": {},
   "outputs": [],
   "source": [
    "test = api.submit_order(symbol=\"ATVI\",\n",
    "                        qty=1,\n",
    "                        side=\"sell\",\n",
    "                        type=\"market\",\n",
    "                        time_in_force=\"day\")"
   ]
  },
  {
   "cell_type": "code",
   "execution_count": null,
   "id": "03d47b23-1589-4a7c-b4ce-6e5bec22d52c",
   "metadata": {},
   "outputs": [],
   "source": []
  },
  {
   "cell_type": "code",
   "execution_count": null,
   "id": "0adaa755-bd65-47d6-8f92-75d9f5b244e0",
   "metadata": {},
   "outputs": [],
   "source": []
  },
  {
   "cell_type": "code",
   "execution_count": null,
   "id": "f5b5125d-ad03-4dea-bd33-8d7f35de09f9",
   "metadata": {},
   "outputs": [],
   "source": [
    "test = api.list_orders(status=\"open\")"
   ]
  },
  {
   "cell_type": "code",
   "execution_count": null,
   "id": "b9c443a6-7465-4afe-b69e-a7fc6eaf4ad8",
   "metadata": {},
   "outputs": [],
   "source": [
    "len(test)"
   ]
  },
  {
   "cell_type": "code",
   "execution_count": null,
   "id": "559c3271-f86a-4b4f-85a7-58964b97a428",
   "metadata": {},
   "outputs": [],
   "source": [
    "test = api.list_positions()"
   ]
  },
  {
   "cell_type": "code",
   "execution_count": null,
   "id": "1cbb0e63-aedd-4f7f-bbf6-ba8912cea74c",
   "metadata": {},
   "outputs": [],
   "source": [
    "len(test)"
   ]
  },
  {
   "cell_type": "code",
   "execution_count": null,
   "id": "792036b1-9cdc-43ff-86b0-0b360f778c00",
   "metadata": {},
   "outputs": [],
   "source": []
  },
  {
   "cell_type": "code",
   "execution_count": null,
   "id": "2fd1f8a1-72e8-4063-ac59-e3f08c2738de",
   "metadata": {},
   "outputs": [],
   "source": [
    "api.list_assets()"
   ]
  },
  {
   "cell_type": "code",
   "execution_count": null,
   "id": "554b555f-df7a-4df7-87e3-8178b6e9ff4d",
   "metadata": {},
   "outputs": [],
   "source": []
  },
  {
   "cell_type": "code",
   "execution_count": null,
   "id": "72718b1f-86ce-40fb-8829-ba165e464228",
   "metadata": {},
   "outputs": [],
   "source": []
  },
  {
   "cell_type": "code",
   "execution_count": null,
   "id": "2916b398-2578-47f3-b8e5-d82d89cb9eaa",
   "metadata": {},
   "outputs": [],
   "source": []
  },
  {
   "cell_type": "markdown",
   "id": "18deeee9-1ab9-4b0e-8a60-0bf5c0b05600",
   "metadata": {},
   "source": [
    "***"
   ]
  },
  {
   "cell_type": "markdown",
   "id": "3bbe9e81-84da-4e95-bdda-3954c0522bca",
   "metadata": {},
   "source": [
    "## Development\n",
    "\n",
    "Functions that will transfer to code"
   ]
  },
  {
   "cell_type": "code",
   "execution_count": null,
   "id": "01d45663-3d96-460c-b497-88ae3b876ec1",
   "metadata": {},
   "outputs": [],
   "source": []
  }
 ],
 "metadata": {
  "kernelspec": {
   "display_name": "Python 3",
   "language": "python",
   "name": "python3"
  },
  "language_info": {
   "codemirror_mode": {
    "name": "ipython",
    "version": 3
   },
   "file_extension": ".py",
   "mimetype": "text/x-python",
   "name": "python",
   "nbconvert_exporter": "python",
   "pygments_lexer": "ipython3",
   "version": "3.8.10"
  }
 },
 "nbformat": 4,
 "nbformat_minor": 5
}
