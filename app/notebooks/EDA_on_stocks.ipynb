{
 "cells": [
  {
   "cell_type": "markdown",
   "id": "fa155da8-1e72-4875-810d-c2ba94056658",
   "metadata": {},
   "source": [
    "# EDA stocks for dummies"
   ]
  },
  {
   "cell_type": "code",
   "execution_count": 8,
   "id": "45674348-5fc2-4a02-ae7e-31f750933810",
   "metadata": {},
   "outputs": [],
   "source": [
    "import pandas as pd\n",
    "import matplotlib.pyplot as plt\n",
    "import seaborn as sns\n",
    "import os\n",
    "import random"
   ]
  },
  {
   "cell_type": "code",
   "execution_count": 2,
   "id": "d1d42747-c9cc-4f51-ad11-f0b2b9205702",
   "metadata": {},
   "outputs": [],
   "source": [
    "data_dir = \"../data/kaggle_stock_data/stocks/\""
   ]
  },
  {
   "cell_type": "code",
   "execution_count": 4,
   "id": "af008d68-53be-47a2-9c00-d0b11af2deef",
   "metadata": {},
   "outputs": [],
   "source": [
    "stock_files = os.listdir(data_dir)"
   ]
  },
  {
   "cell_type": "code",
   "execution_count": 5,
   "id": "a4f68542-4dc2-46ed-9cc0-4629112ab331",
   "metadata": {},
   "outputs": [
    {
     "data": {
      "text/plain": [
       "5884"
      ]
     },
     "execution_count": 5,
     "metadata": {},
     "output_type": "execute_result"
    }
   ],
   "source": [
    "len(stock_files)"
   ]
  },
  {
   "cell_type": "code",
   "execution_count": 10,
   "id": "ab75c55b-ed96-4372-a955-44484dd1d3c3",
   "metadata": {},
   "outputs": [],
   "source": [
    "n_stocks = 5\n",
    "random_stock_files = [os.path.join(data_dir,x) for x in random.sample(stock_files,n_stocks)]"
   ]
  },
  {
   "cell_type": "code",
   "execution_count": 40,
   "id": "66f03d00-64cd-4542-8d74-8397e645e135",
   "metadata": {},
   "outputs": [],
   "source": [
    "all_dfs = []\n",
    "for file in random_stock_files:\n",
    "    tmp_df = pd.read_csv(file)\n",
    "    file_name = file.split(\"/\")[-1]\n",
    "    stock_name = file_name.split(\".\")[0]\n",
    "    tmp_df['stock_name'] = stock_name\n",
    "    all_dfs.append(tmp_df)"
   ]
  },
  {
   "cell_type": "code",
   "execution_count": 41,
   "id": "7f7db871-1c0c-429a-8dd1-f058b608c5c5",
   "metadata": {},
   "outputs": [],
   "source": [
    "df = pd.concat(all_dfs)"
   ]
  },
  {
   "cell_type": "code",
   "execution_count": 42,
   "id": "7cfbc38e-b2d1-4c6a-9a75-9ce3dccf0d06",
   "metadata": {},
   "outputs": [
    {
     "data": {
      "text/plain": [
       "array(['TREX', 'GAIN', 'TARO', 'BFYT', 'FNKO'], dtype=object)"
      ]
     },
     "execution_count": 42,
     "metadata": {},
     "output_type": "execute_result"
    }
   ],
   "source": [
    "df['stock_name'].unique()"
   ]
  },
  {
   "cell_type": "code",
   "execution_count": 43,
   "id": "232aa378-9d02-43ab-8a91-35c09e1585e8",
   "metadata": {},
   "outputs": [
    {
     "data": {
      "text/plain": [
       "(19112, 8)"
      ]
     },
     "execution_count": 43,
     "metadata": {},
     "output_type": "execute_result"
    }
   ],
   "source": [
    "df.shape"
   ]
  },
  {
   "cell_type": "code",
   "execution_count": 44,
   "id": "73081439-5923-487d-bb0f-be56e8dcf6ad",
   "metadata": {},
   "outputs": [
    {
     "data": {
      "text/plain": [
       "Date          0\n",
       "Open          0\n",
       "High          0\n",
       "Low           0\n",
       "Close         0\n",
       "Adj Close     0\n",
       "Volume        0\n",
       "stock_name    0\n",
       "dtype: int64"
      ]
     },
     "execution_count": 44,
     "metadata": {},
     "output_type": "execute_result"
    }
   ],
   "source": [
    "df.isnull().sum()"
   ]
  },
  {
   "cell_type": "code",
   "execution_count": 45,
   "id": "f3ec796e-0b57-4e2e-8d8f-77134bec56c0",
   "metadata": {},
   "outputs": [
    {
     "name": "stdout",
     "output_type": "stream",
     "text": [
      "Start date: 1982-09-14\n",
      "End date: 2020-04-01\n"
     ]
    }
   ],
   "source": [
    "min_date = min(df['Date'])\n",
    "max_date = max(df['Date'])\n",
    "print(f\"Start date: {min_date}\\nEnd date: {max_date}\")"
   ]
  },
  {
   "cell_type": "code",
   "execution_count": 46,
   "id": "9e5b21a2-9105-4ccb-a346-27ce9a258afe",
   "metadata": {},
   "outputs": [
    {
     "data": {
      "text/html": [
       "<div>\n",
       "<style scoped>\n",
       "    .dataframe tbody tr th:only-of-type {\n",
       "        vertical-align: middle;\n",
       "    }\n",
       "\n",
       "    .dataframe tbody tr th {\n",
       "        vertical-align: top;\n",
       "    }\n",
       "\n",
       "    .dataframe thead th {\n",
       "        text-align: right;\n",
       "    }\n",
       "</style>\n",
       "<table border=\"1\" class=\"dataframe\">\n",
       "  <thead>\n",
       "    <tr style=\"text-align: right;\">\n",
       "      <th></th>\n",
       "      <th>Date</th>\n",
       "      <th>Open</th>\n",
       "      <th>High</th>\n",
       "      <th>Low</th>\n",
       "      <th>Close</th>\n",
       "      <th>Adj Close</th>\n",
       "      <th>Volume</th>\n",
       "      <th>stock_name</th>\n",
       "    </tr>\n",
       "  </thead>\n",
       "  <tbody>\n",
       "    <tr>\n",
       "      <th>0</th>\n",
       "      <td>1999-04-08</td>\n",
       "      <td>2.5000</td>\n",
       "      <td>3.12500</td>\n",
       "      <td>2.500000</td>\n",
       "      <td>2.84375</td>\n",
       "      <td>2.84375</td>\n",
       "      <td>3577200</td>\n",
       "      <td>TREX</td>\n",
       "    </tr>\n",
       "    <tr>\n",
       "      <th>1</th>\n",
       "      <td>1999-04-09</td>\n",
       "      <td>3.0625</td>\n",
       "      <td>3.46875</td>\n",
       "      <td>3.015625</td>\n",
       "      <td>3.21875</td>\n",
       "      <td>3.21875</td>\n",
       "      <td>1336400</td>\n",
       "      <td>TREX</td>\n",
       "    </tr>\n",
       "    <tr>\n",
       "      <th>2</th>\n",
       "      <td>1999-04-12</td>\n",
       "      <td>3.2500</td>\n",
       "      <td>3.40625</td>\n",
       "      <td>3.140625</td>\n",
       "      <td>3.25000</td>\n",
       "      <td>3.25000</td>\n",
       "      <td>763200</td>\n",
       "      <td>TREX</td>\n",
       "    </tr>\n",
       "  </tbody>\n",
       "</table>\n",
       "</div>"
      ],
      "text/plain": [
       "         Date    Open     High       Low    Close  Adj Close   Volume  \\\n",
       "0  1999-04-08  2.5000  3.12500  2.500000  2.84375    2.84375  3577200   \n",
       "1  1999-04-09  3.0625  3.46875  3.015625  3.21875    3.21875  1336400   \n",
       "2  1999-04-12  3.2500  3.40625  3.140625  3.25000    3.25000   763200   \n",
       "\n",
       "  stock_name  \n",
       "0       TREX  \n",
       "1       TREX  \n",
       "2       TREX  "
      ]
     },
     "execution_count": 46,
     "metadata": {},
     "output_type": "execute_result"
    }
   ],
   "source": [
    "df.head(n=3)"
   ]
  },
  {
   "cell_type": "code",
   "execution_count": 47,
   "id": "975f0d82-365b-492e-97c3-09f6b162ef59",
   "metadata": {},
   "outputs": [],
   "source": [
    "df['Date'] = pd.to_datetime(df['Date'])"
   ]
  },
  {
   "cell_type": "code",
   "execution_count": 31,
   "id": "ee2f7a8f-cf49-409e-8c32-53f13e5fd585",
   "metadata": {},
   "outputs": [],
   "source": [
    "# df['Date'] = df['Date'].dt.to_period(\"D\")"
   ]
  },
  {
   "cell_type": "code",
   "execution_count": 48,
   "id": "934e2832-0e32-4aed-a9f0-0b3a961cb11d",
   "metadata": {},
   "outputs": [
    {
     "data": {
      "text/html": [
       "<div>\n",
       "<style scoped>\n",
       "    .dataframe tbody tr th:only-of-type {\n",
       "        vertical-align: middle;\n",
       "    }\n",
       "\n",
       "    .dataframe tbody tr th {\n",
       "        vertical-align: top;\n",
       "    }\n",
       "\n",
       "    .dataframe thead th {\n",
       "        text-align: right;\n",
       "    }\n",
       "</style>\n",
       "<table border=\"1\" class=\"dataframe\">\n",
       "  <thead>\n",
       "    <tr style=\"text-align: right;\">\n",
       "      <th></th>\n",
       "      <th>Date</th>\n",
       "      <th>Open</th>\n",
       "      <th>High</th>\n",
       "      <th>Low</th>\n",
       "      <th>Close</th>\n",
       "      <th>Adj Close</th>\n",
       "      <th>Volume</th>\n",
       "      <th>stock_name</th>\n",
       "    </tr>\n",
       "  </thead>\n",
       "  <tbody>\n",
       "    <tr>\n",
       "      <th>0</th>\n",
       "      <td>1999-04-08</td>\n",
       "      <td>2.5000</td>\n",
       "      <td>3.12500</td>\n",
       "      <td>2.500000</td>\n",
       "      <td>2.84375</td>\n",
       "      <td>2.84375</td>\n",
       "      <td>3577200</td>\n",
       "      <td>TREX</td>\n",
       "    </tr>\n",
       "    <tr>\n",
       "      <th>1</th>\n",
       "      <td>1999-04-09</td>\n",
       "      <td>3.0625</td>\n",
       "      <td>3.46875</td>\n",
       "      <td>3.015625</td>\n",
       "      <td>3.21875</td>\n",
       "      <td>3.21875</td>\n",
       "      <td>1336400</td>\n",
       "      <td>TREX</td>\n",
       "    </tr>\n",
       "    <tr>\n",
       "      <th>2</th>\n",
       "      <td>1999-04-12</td>\n",
       "      <td>3.2500</td>\n",
       "      <td>3.40625</td>\n",
       "      <td>3.140625</td>\n",
       "      <td>3.25000</td>\n",
       "      <td>3.25000</td>\n",
       "      <td>763200</td>\n",
       "      <td>TREX</td>\n",
       "    </tr>\n",
       "  </tbody>\n",
       "</table>\n",
       "</div>"
      ],
      "text/plain": [
       "        Date    Open     High       Low    Close  Adj Close   Volume  \\\n",
       "0 1999-04-08  2.5000  3.12500  2.500000  2.84375    2.84375  3577200   \n",
       "1 1999-04-09  3.0625  3.46875  3.015625  3.21875    3.21875  1336400   \n",
       "2 1999-04-12  3.2500  3.40625  3.140625  3.25000    3.25000   763200   \n",
       "\n",
       "  stock_name  \n",
       "0       TREX  \n",
       "1       TREX  \n",
       "2       TREX  "
      ]
     },
     "execution_count": 48,
     "metadata": {},
     "output_type": "execute_result"
    }
   ],
   "source": [
    "df.head(n=3)"
   ]
  },
  {
   "cell_type": "code",
   "execution_count": 49,
   "id": "d19cec43-88f1-42e6-a8ad-b9e596f9971a",
   "metadata": {},
   "outputs": [
    {
     "name": "stdout",
     "output_type": "stream",
     "text": [
      "<class 'pandas.core.frame.DataFrame'>\n",
      "Int64Index: 19112 entries, 0 to 605\n",
      "Data columns (total 8 columns):\n",
      " #   Column      Non-Null Count  Dtype         \n",
      "---  ------      --------------  -----         \n",
      " 0   Date        19112 non-null  datetime64[ns]\n",
      " 1   Open        19112 non-null  float64       \n",
      " 2   High        19112 non-null  float64       \n",
      " 3   Low         19112 non-null  float64       \n",
      " 4   Close       19112 non-null  float64       \n",
      " 5   Adj Close   19112 non-null  float64       \n",
      " 6   Volume      19112 non-null  int64         \n",
      " 7   stock_name  19112 non-null  object        \n",
      "dtypes: datetime64[ns](1), float64(5), int64(1), object(1)\n",
      "memory usage: 1.3+ MB\n"
     ]
    }
   ],
   "source": [
    "df.info()"
   ]
  },
  {
   "cell_type": "code",
   "execution_count": 54,
   "id": "e4938c57-93c0-4545-8650-61ec044d7efe",
   "metadata": {},
   "outputs": [],
   "source": [
    "df_sub = df[(df['Date'].dt.year==2019)]"
   ]
  },
  {
   "cell_type": "code",
   "execution_count": 55,
   "id": "ae6830f5-4481-48e1-ba21-f6e63d683561",
   "metadata": {},
   "outputs": [
    {
     "data": {
      "text/plain": [
       "(1026, 8)"
      ]
     },
     "execution_count": 55,
     "metadata": {},
     "output_type": "execute_result"
    }
   ],
   "source": [
    "df_sub.shape"
   ]
  },
  {
   "cell_type": "code",
   "execution_count": 56,
   "id": "a88206f6-9a4c-419c-9126-54aa21743dbb",
   "metadata": {},
   "outputs": [],
   "source": [
    "df_sub = df_sub[df_sub['stock_name']==df_sub['stock_name'].unique().tolist()[0]]"
   ]
  },
  {
   "cell_type": "code",
   "execution_count": 57,
   "id": "de5b97f4-a481-4bbb-91dc-75f640e771b8",
   "metadata": {},
   "outputs": [
    {
     "data": {
      "image/png": "[encoded data removed]",
      "text/plain": [
       "<Figure size 432x288 with 1 Axes>"
      ]
     },
     "metadata": {
      "needs_background": "light"
     },
     "output_type": "display_data"
    }
   ],
   "source": [
    "plot = sns.lineplot(x=df_sub['Date'],y=df_sub['Open'])"
   ]
  },
  {
   "cell_type": "code",
   "execution_count": null,
   "id": "fe6e3eeb-cf3a-45c2-a429-e6bf1002afca",
   "metadata": {},
   "outputs": [],
   "source": []
  }
 ],
 "metadata": {
  "kernelspec": {
   "display_name": "Python 3",
   "language": "python",
   "name": "python3"
  },
  "language_info": {
   "codemirror_mode": {
    "name": "ipython",
    "version": 3
   },
   "file_extension": ".py",
   "mimetype": "text/x-python",
   "name": "python",
   "nbconvert_exporter": "python",
   "pygments_lexer": "ipython3",
   "version": "3.8.10"
  }
 },
 "nbformat": 4,
 "nbformat_minor": 5
}
