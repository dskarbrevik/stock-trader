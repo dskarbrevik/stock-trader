{
 "cells": [
  {
   "cell_type": "markdown",
   "id": "9c860d3f-3d9f-46d9-bc26-7958cfac1fb2",
   "metadata": {},
   "source": [
    "# Keras basics\n",
    "\n",
    "Just trying to understand how to make seq-seq models generally"
   ]
  },
  {
   "cell_type": "code",
   "execution_count": 3,
   "id": "710b20af-6492-4a56-b3ea-42d9ef890da6",
   "metadata": {},
   "outputs": [],
   "source": [
    "from tensorflow.keras.preprocessing import timeseries_dataset_from_array"
   ]
  },
  {
   "cell_type": "code",
   "execution_count": 4,
   "id": "745bfa15-5dec-4940-baed-adcebc42cfe0",
   "metadata": {},
   "outputs": [],
   "source": [
    "import numpy as np"
   ]
  },
  {
   "cell_type": "code",
   "execution_count": 7,
   "id": "a97fe0bb-8ced-4bf5-a370-434d31b6833e",
   "metadata": {},
   "outputs": [],
   "source": [
    "array = np.arange(100)"
   ]
  },
  {
   "cell_type": "code",
   "execution_count": 8,
   "id": "d79c3d36-0d9a-402c-91ea-04aee0f5dec5",
   "metadata": {},
   "outputs": [
    {
     "data": {
      "text/plain": [
       "array([ 0,  1,  2,  3,  4,  5,  6,  7,  8,  9, 10, 11, 12, 13, 14, 15, 16,\n",
       "       17, 18, 19, 20, 21, 22, 23, 24, 25, 26, 27, 28, 29, 30, 31, 32, 33,\n",
       "       34, 35, 36, 37, 38, 39, 40, 41, 42, 43, 44, 45, 46, 47, 48, 49, 50,\n",
       "       51, 52, 53, 54, 55, 56, 57, 58, 59, 60, 61, 62, 63, 64, 65, 66, 67,\n",
       "       68, 69, 70, 71, 72, 73, 74, 75, 76, 77, 78, 79, 80, 81, 82, 83, 84,\n",
       "       85, 86, 87, 88, 89, 90, 91, 92, 93, 94, 95, 96, 97, 98, 99])"
      ]
     },
     "execution_count": 8,
     "metadata": {},
     "output_type": "execute_result"
    }
   ],
   "source": [
    "array"
   ]
  },
  {
   "cell_type": "code",
   "execution_count": 11,
   "id": "ce652db8-ca8b-4e10-bb6b-35ad13a4d4ce",
   "metadata": {},
   "outputs": [],
   "source": [
    "sequence_length=1\n",
    "sequence_stride=9\n",
    "sampling_rate=1\n",
    "batch_size=1\n",
    "shuffle=False"
   ]
  },
  {
   "cell_type": "code",
   "execution_count": 14,
   "id": "593f33ce-d402-4dd3-860f-cebd7c0323e7",
   "metadata": {},
   "outputs": [
    {
     "data": {
      "text/plain": [
       "array([90, 91, 92, 93, 94, 95, 96, 97, 98, 99])"
      ]
     },
     "execution_count": 14,
     "metadata": {},
     "output_type": "execute_result"
    }
   ],
   "source": [
    "array[-10:]"
   ]
  },
  {
   "cell_type": "code",
   "execution_count": 23,
   "id": "1faf9d38-56e1-4a17-88d6-10ad285461e3",
   "metadata": {},
   "outputs": [],
   "source": [
    "data = timeseries_dataset_from_array(data=array[:-10],\n",
    "                                     targets=array[10:],\n",
    "                                     sequence_length=sequence_length,\n",
    "                                     sequence_stride=sequence_stride,\n",
    "                                     sampling_rate=sampling_rate,\n",
    "                                     batch_size=batch_size,\n",
    "                                     shuffle=shuffle)"
   ]
  },
  {
   "cell_type": "code",
   "execution_count": 24,
   "id": "e90a620c-c756-4162-ab4b-5e4c999e804e",
   "metadata": {},
   "outputs": [
    {
     "name": "stdout",
     "output_type": "stream",
     "text": [
      "0\n",
      "1\n",
      "2\n",
      "3\n",
      "4\n",
      "5\n",
      "6\n",
      "7\n",
      "8\n",
      "9\n"
     ]
    }
   ],
   "source": [
    "for i,batch in enumerate(data):\n",
    "    print(i)\n",
    "    inputs, targets = batch"
   ]
  },
  {
   "cell_type": "code",
   "execution_count": null,
   "id": "5011b5cc-db43-4f07-aae6-908574d7b767",
   "metadata": {},
   "outputs": [],
   "source": []
  },
  {
   "cell_type": "code",
   "execution_count": 30,
   "id": "481ec7e2-83d4-4423-bf74-f6e22bf9bd63",
   "metadata": {},
   "outputs": [
    {
     "data": {
      "text/plain": [
       "TensorShape([1, 1])"
      ]
     },
     "execution_count": 30,
     "metadata": {},
     "output_type": "execute_result"
    }
   ],
   "source": [
    "inputs.shape"
   ]
  },
  {
   "cell_type": "code",
   "execution_count": null,
   "id": "46f14888-73cd-4709-a793-b0d7e6f0e1bf",
   "metadata": {},
   "outputs": [],
   "source": [
    "inputs"
   ]
  },
  {
   "cell_type": "code",
   "execution_count": 28,
   "id": "e3cf05d0-114d-4dec-93c5-15fc6d26ab5f",
   "metadata": {},
   "outputs": [
    {
     "data": {
      "text/plain": [
       "<tf.Tensor: shape=(1,), dtype=int64, numpy=array([91])>"
      ]
     },
     "execution_count": 28,
     "metadata": {},
     "output_type": "execute_result"
    }
   ],
   "source": [
    "targets"
   ]
  },
  {
   "cell_type": "code",
   "execution_count": 29,
   "id": "b852302b-a4b9-4391-b18e-422014dadf7e",
   "metadata": {},
   "outputs": [
    {
     "data": {
      "text/plain": [
       "<tf.Tensor: shape=(1,), dtype=int64, numpy=array([81])>"
      ]
     },
     "execution_count": 29,
     "metadata": {},
     "output_type": "execute_result"
    }
   ],
   "source": [
    "inputs[0]"
   ]
  },
  {
   "cell_type": "code",
   "execution_count": 31,
   "id": "dcaab262-f2d7-48f2-b0a1-71acc5f3e14b",
   "metadata": {},
   "outputs": [
    {
     "data": {
      "text/plain": [
       "<tf.Tensor: shape=(), dtype=int64, numpy=81>"
      ]
     },
     "execution_count": 31,
     "metadata": {},
     "output_type": "execute_result"
    }
   ],
   "source": [
    "inputs[0][0]"
   ]
  },
  {
   "cell_type": "code",
   "execution_count": null,
   "id": "cd0cb201-4f29-4862-a5b1-7b78d674b5c5",
   "metadata": {},
   "outputs": [],
   "source": []
  }
 ],
 "metadata": {
  "kernelspec": {
   "display_name": "Python 3",
   "language": "python",
   "name": "python3"
  },
  "language_info": {
   "codemirror_mode": {
    "name": "ipython",
    "version": 3
   },
   "file_extension": ".py",
   "mimetype": "text/x-python",
   "name": "python",
   "nbconvert_exporter": "python",
   "pygments_lexer": "ipython3",
   "version": "3.8.10"
  }
 },
 "nbformat": 4,
 "nbformat_minor": 5
}
