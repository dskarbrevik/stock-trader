{
 "cells": [
  {
   "cell_type": "markdown",
   "id": "7fa9d3bd-291e-4867-bc41-01f5e23904ba",
   "metadata": {},
   "source": [
    "# Aplaca test notebook"
   ]
  },
  {
   "cell_type": "markdown",
   "id": "98057803-78b5-4c9b-b8ce-39de083c6e9c",
   "metadata": {},
   "source": [
    "***"
   ]
  },
  {
   "cell_type": "markdown",
   "id": "2fdd6c0e-e735-46c7-b7cf-5d96aae3fb0e",
   "metadata": {},
   "source": [
    "## Setup\n",
    "\n",
    "Always run these blocks first."
   ]
  },
  {
   "cell_type": "code",
   "execution_count": 11,
   "id": "08c6994c-7b7d-4402-b704-a0d5dfe6bea4",
   "metadata": {},
   "outputs": [],
   "source": [
    "from alpaca_trade_api.rest import REST, TimeFrame\n",
    "from alpaca_trade_api.common import URL\n",
    "from alpaca_trade_api.stream import Stream\n",
    "import pandas as pd\n",
    "import json\n",
    "import logging\n",
    "logging.basicConfig(format='%(asctime)s %(message)s', level=logging.INFO)"
   ]
  },
  {
   "cell_type": "code",
   "execution_count": 12,
   "id": "95ed6f54-862e-4545-bb8f-4109730c56b9",
   "metadata": {},
   "outputs": [],
   "source": [
    "with open(\"../config.json\",\"rb\") as file:\n",
    "    config = json.load(file)"
   ]
  },
  {
   "cell_type": "code",
   "execution_count": 13,
   "id": "0bced916-c7e6-4238-8604-378e4e79219f",
   "metadata": {},
   "outputs": [],
   "source": [
    "api = REST(key_id=config['alpaca_key_id'],\n",
    "           secret_key=config['alpaca_secret_key'],\n",
    "           base_url=URL(config['alpaca_base_url'])\n",
    "           )"
   ]
  },
  {
   "cell_type": "code",
   "execution_count": 14,
   "id": "92d6af0d-7885-4136-81c8-36ed4641d59e",
   "metadata": {},
   "outputs": [
    {
     "name": "stderr",
     "output_type": "stream",
     "text": [
      "/usr/local/lib/python3.8/abc.py:102: RuntimeWarning: coroutine 'Stream._run_forever' was never awaited\n",
      "  return _abc_subclasscheck(cls, subclass)\n",
      "RuntimeWarning: Enable tracemalloc to get the object allocation traceback\n"
     ]
    }
   ],
   "source": [
    "account = api.get_account()"
   ]
  },
  {
   "cell_type": "code",
   "execution_count": 15,
   "id": "e2f92674-1aa0-426f-abc1-f398e297f7c7",
   "metadata": {},
   "outputs": [
    {
     "data": {
      "text/plain": [
       "'ACTIVE'"
      ]
     },
     "execution_count": 15,
     "metadata": {},
     "output_type": "execute_result"
    }
   ],
   "source": [
    "account.status"
   ]
  },
  {
   "cell_type": "markdown",
   "id": "1366f10f-a1f8-4ae2-a745-44d90b0f9b7d",
   "metadata": {},
   "source": [
    "***"
   ]
  },
  {
   "cell_type": "markdown",
   "id": "6e16667c-2184-4959-8917-7960a3adfcb9",
   "metadata": {},
   "source": [
    "## Exploration"
   ]
  },
  {
   "cell_type": "markdown",
   "id": "ef1c6558-71f1-4076-8041-bfe5150d9d34",
   "metadata": {},
   "source": [
    "### Get Data"
   ]
  },
  {
   "cell_type": "markdown",
   "id": "34ab6fde-dcac-48d8-845b-19126418301e",
   "metadata": {},
   "source": [
    "**get_bars**"
   ]
  },
  {
   "cell_type": "code",
   "execution_count": null,
   "id": "0d9a89aa-dd32-495f-bbba-ac36a1199566",
   "metadata": {},
   "outputs": [],
   "source": [
    "result = api.get_bars(\"AAPL\", TimeFrame.Hour, \"2021-02-08\", \"2021-02-08\", limit=100, adjustment='raw').df"
   ]
  },
  {
   "cell_type": "code",
   "execution_count": 16,
   "id": "999b6060-6e70-4cf9-9014-990c488a4c7d",
   "metadata": {},
   "outputs": [],
   "source": [
    "result = api.get_bars(\"AAPL\", TimeFrame.Minute, \"2021-02-08\", \"2021-02-08\", limit=1000, adjustment='raw').df"
   ]
  },
  {
   "cell_type": "code",
   "execution_count": 18,
   "id": "6798872b-7ffe-4fa0-ae17-40ef94db13d6",
   "metadata": {},
   "outputs": [
    {
     "data": {
      "text/html": [
       "<div>\n",
       "<style scoped>\n",
       "    .dataframe tbody tr th:only-of-type {\n",
       "        vertical-align: middle;\n",
       "    }\n",
       "\n",
       "    .dataframe tbody tr th {\n",
       "        vertical-align: top;\n",
       "    }\n",
       "\n",
       "    .dataframe thead th {\n",
       "        text-align: right;\n",
       "    }\n",
       "</style>\n",
       "<table border=\"1\" class=\"dataframe\">\n",
       "  <thead>\n",
       "    <tr style=\"text-align: right;\">\n",
       "      <th></th>\n",
       "      <th>open</th>\n",
       "      <th>high</th>\n",
       "      <th>low</th>\n",
       "      <th>close</th>\n",
       "      <th>volume</th>\n",
       "    </tr>\n",
       "    <tr>\n",
       "      <th>timestamp</th>\n",
       "      <th></th>\n",
       "      <th></th>\n",
       "      <th></th>\n",
       "      <th></th>\n",
       "      <th></th>\n",
       "    </tr>\n",
       "  </thead>\n",
       "  <tbody>\n",
       "    <tr>\n",
       "      <th>2021-02-08 09:00:00+00:00</th>\n",
       "      <td>136.68</td>\n",
       "      <td>136.80</td>\n",
       "      <td>136.65</td>\n",
       "      <td>136.80</td>\n",
       "      <td>34441</td>\n",
       "    </tr>\n",
       "    <tr>\n",
       "      <th>2021-02-08 09:01:00+00:00</th>\n",
       "      <td>136.72</td>\n",
       "      <td>136.72</td>\n",
       "      <td>136.66</td>\n",
       "      <td>136.70</td>\n",
       "      <td>2083</td>\n",
       "    </tr>\n",
       "    <tr>\n",
       "      <th>2021-02-08 09:02:00+00:00</th>\n",
       "      <td>136.63</td>\n",
       "      <td>136.80</td>\n",
       "      <td>136.50</td>\n",
       "      <td>136.80</td>\n",
       "      <td>4741</td>\n",
       "    </tr>\n",
       "    <tr>\n",
       "      <th>2021-02-08 09:03:00+00:00</th>\n",
       "      <td>136.69</td>\n",
       "      <td>136.79</td>\n",
       "      <td>136.69</td>\n",
       "      <td>136.79</td>\n",
       "      <td>2570</td>\n",
       "    </tr>\n",
       "    <tr>\n",
       "      <th>2021-02-08 09:04:00+00:00</th>\n",
       "      <td>136.53</td>\n",
       "      <td>136.62</td>\n",
       "      <td>136.53</td>\n",
       "      <td>136.62</td>\n",
       "      <td>1533</td>\n",
       "    </tr>\n",
       "    <tr>\n",
       "      <th>2021-02-08 09:05:00+00:00</th>\n",
       "      <td>136.62</td>\n",
       "      <td>136.72</td>\n",
       "      <td>136.62</td>\n",
       "      <td>136.72</td>\n",
       "      <td>1853</td>\n",
       "    </tr>\n",
       "    <tr>\n",
       "      <th>2021-02-08 09:06:00+00:00</th>\n",
       "      <td>136.74</td>\n",
       "      <td>136.88</td>\n",
       "      <td>136.74</td>\n",
       "      <td>136.88</td>\n",
       "      <td>890</td>\n",
       "    </tr>\n",
       "    <tr>\n",
       "      <th>2021-02-08 09:07:00+00:00</th>\n",
       "      <td>136.76</td>\n",
       "      <td>136.76</td>\n",
       "      <td>136.76</td>\n",
       "      <td>136.76</td>\n",
       "      <td>1327</td>\n",
       "    </tr>\n",
       "    <tr>\n",
       "      <th>2021-02-08 09:08:00+00:00</th>\n",
       "      <td>136.89</td>\n",
       "      <td>136.89</td>\n",
       "      <td>136.81</td>\n",
       "      <td>136.83</td>\n",
       "      <td>2265</td>\n",
       "    </tr>\n",
       "    <tr>\n",
       "      <th>2021-02-08 09:09:00+00:00</th>\n",
       "      <td>136.88</td>\n",
       "      <td>136.91</td>\n",
       "      <td>136.88</td>\n",
       "      <td>136.91</td>\n",
       "      <td>896</td>\n",
       "    </tr>\n",
       "    <tr>\n",
       "      <th>2021-02-08 09:10:00+00:00</th>\n",
       "      <td>136.95</td>\n",
       "      <td>136.99</td>\n",
       "      <td>136.95</td>\n",
       "      <td>136.96</td>\n",
       "      <td>1784</td>\n",
       "    </tr>\n",
       "    <tr>\n",
       "      <th>2021-02-08 09:11:00+00:00</th>\n",
       "      <td>136.99</td>\n",
       "      <td>137.08</td>\n",
       "      <td>136.99</td>\n",
       "      <td>137.03</td>\n",
       "      <td>5197</td>\n",
       "    </tr>\n",
       "    <tr>\n",
       "      <th>2021-02-08 09:12:00+00:00</th>\n",
       "      <td>137.10</td>\n",
       "      <td>137.10</td>\n",
       "      <td>137.10</td>\n",
       "      <td>137.10</td>\n",
       "      <td>878</td>\n",
       "    </tr>\n",
       "    <tr>\n",
       "      <th>2021-02-08 09:13:00+00:00</th>\n",
       "      <td>137.10</td>\n",
       "      <td>137.10</td>\n",
       "      <td>137.10</td>\n",
       "      <td>137.10</td>\n",
       "      <td>650</td>\n",
       "    </tr>\n",
       "    <tr>\n",
       "      <th>2021-02-08 09:14:00+00:00</th>\n",
       "      <td>137.10</td>\n",
       "      <td>137.10</td>\n",
       "      <td>137.05</td>\n",
       "      <td>137.05</td>\n",
       "      <td>1226</td>\n",
       "    </tr>\n",
       "    <tr>\n",
       "      <th>2021-02-08 09:15:00+00:00</th>\n",
       "      <td>137.03</td>\n",
       "      <td>137.03</td>\n",
       "      <td>137.03</td>\n",
       "      <td>137.03</td>\n",
       "      <td>444</td>\n",
       "    </tr>\n",
       "    <tr>\n",
       "      <th>2021-02-08 09:16:00+00:00</th>\n",
       "      <td>137.00</td>\n",
       "      <td>137.00</td>\n",
       "      <td>137.00</td>\n",
       "      <td>137.00</td>\n",
       "      <td>878</td>\n",
       "    </tr>\n",
       "    <tr>\n",
       "      <th>2021-02-08 09:17:00+00:00</th>\n",
       "      <td>136.90</td>\n",
       "      <td>136.90</td>\n",
       "      <td>136.86</td>\n",
       "      <td>136.86</td>\n",
       "      <td>641</td>\n",
       "    </tr>\n",
       "    <tr>\n",
       "      <th>2021-02-08 09:18:00+00:00</th>\n",
       "      <td>136.90</td>\n",
       "      <td>136.90</td>\n",
       "      <td>136.87</td>\n",
       "      <td>136.89</td>\n",
       "      <td>1004</td>\n",
       "    </tr>\n",
       "    <tr>\n",
       "      <th>2021-02-08 09:19:00+00:00</th>\n",
       "      <td>136.90</td>\n",
       "      <td>136.90</td>\n",
       "      <td>136.90</td>\n",
       "      <td>136.90</td>\n",
       "      <td>1675</td>\n",
       "    </tr>\n",
       "  </tbody>\n",
       "</table>\n",
       "</div>"
      ],
      "text/plain": [
       "                             open    high     low   close  volume\n",
       "timestamp                                                        \n",
       "2021-02-08 09:00:00+00:00  136.68  136.80  136.65  136.80   34441\n",
       "2021-02-08 09:01:00+00:00  136.72  136.72  136.66  136.70    2083\n",
       "2021-02-08 09:02:00+00:00  136.63  136.80  136.50  136.80    4741\n",
       "2021-02-08 09:03:00+00:00  136.69  136.79  136.69  136.79    2570\n",
       "2021-02-08 09:04:00+00:00  136.53  136.62  136.53  136.62    1533\n",
       "2021-02-08 09:05:00+00:00  136.62  136.72  136.62  136.72    1853\n",
       "2021-02-08 09:06:00+00:00  136.74  136.88  136.74  136.88     890\n",
       "2021-02-08 09:07:00+00:00  136.76  136.76  136.76  136.76    1327\n",
       "2021-02-08 09:08:00+00:00  136.89  136.89  136.81  136.83    2265\n",
       "2021-02-08 09:09:00+00:00  136.88  136.91  136.88  136.91     896\n",
       "2021-02-08 09:10:00+00:00  136.95  136.99  136.95  136.96    1784\n",
       "2021-02-08 09:11:00+00:00  136.99  137.08  136.99  137.03    5197\n",
       "2021-02-08 09:12:00+00:00  137.10  137.10  137.10  137.10     878\n",
       "2021-02-08 09:13:00+00:00  137.10  137.10  137.10  137.10     650\n",
       "2021-02-08 09:14:00+00:00  137.10  137.10  137.05  137.05    1226\n",
       "2021-02-08 09:15:00+00:00  137.03  137.03  137.03  137.03     444\n",
       "2021-02-08 09:16:00+00:00  137.00  137.00  137.00  137.00     878\n",
       "2021-02-08 09:17:00+00:00  136.90  136.90  136.86  136.86     641\n",
       "2021-02-08 09:18:00+00:00  136.90  136.90  136.87  136.89    1004\n",
       "2021-02-08 09:19:00+00:00  136.90  136.90  136.90  136.90    1675"
      ]
     },
     "execution_count": 18,
     "metadata": {},
     "output_type": "execute_result"
    }
   ],
   "source": [
    "result.head(n=20)"
   ]
  },
  {
   "cell_type": "code",
   "execution_count": 19,
   "id": "340141c3-573b-443a-a1e4-e60289de16b7",
   "metadata": {},
   "outputs": [
    {
     "data": {
      "text/plain": [
       "(862, 5)"
      ]
     },
     "execution_count": 19,
     "metadata": {},
     "output_type": "execute_result"
    }
   ],
   "source": [
    "result.shape"
   ]
  },
  {
   "cell_type": "code",
   "execution_count": 21,
   "id": "b94c8f29-984f-4ae6-b289-069a9f9d4c47",
   "metadata": {},
   "outputs": [
    {
     "data": {
      "text/html": [
       "<div>\n",
       "<style scoped>\n",
       "    .dataframe tbody tr th:only-of-type {\n",
       "        vertical-align: middle;\n",
       "    }\n",
       "\n",
       "    .dataframe tbody tr th {\n",
       "        vertical-align: top;\n",
       "    }\n",
       "\n",
       "    .dataframe thead th {\n",
       "        text-align: right;\n",
       "    }\n",
       "</style>\n",
       "<table border=\"1\" class=\"dataframe\">\n",
       "  <thead>\n",
       "    <tr style=\"text-align: right;\">\n",
       "      <th></th>\n",
       "      <th>open</th>\n",
       "      <th>high</th>\n",
       "      <th>low</th>\n",
       "      <th>close</th>\n",
       "      <th>volume</th>\n",
       "    </tr>\n",
       "    <tr>\n",
       "      <th>timestamp</th>\n",
       "      <th></th>\n",
       "      <th></th>\n",
       "      <th></th>\n",
       "      <th></th>\n",
       "      <th></th>\n",
       "    </tr>\n",
       "  </thead>\n",
       "  <tbody>\n",
       "    <tr>\n",
       "      <th>2021-02-08 09:00:00+00:00</th>\n",
       "      <td>136.68</td>\n",
       "      <td>136.80</td>\n",
       "      <td>136.65</td>\n",
       "      <td>136.80</td>\n",
       "      <td>34441</td>\n",
       "    </tr>\n",
       "    <tr>\n",
       "      <th>2021-02-08 09:01:00+00:00</th>\n",
       "      <td>136.72</td>\n",
       "      <td>136.72</td>\n",
       "      <td>136.66</td>\n",
       "      <td>136.70</td>\n",
       "      <td>2083</td>\n",
       "    </tr>\n",
       "    <tr>\n",
       "      <th>2021-02-08 09:02:00+00:00</th>\n",
       "      <td>136.63</td>\n",
       "      <td>136.80</td>\n",
       "      <td>136.50</td>\n",
       "      <td>136.80</td>\n",
       "      <td>4741</td>\n",
       "    </tr>\n",
       "    <tr>\n",
       "      <th>2021-02-08 09:03:00+00:00</th>\n",
       "      <td>136.69</td>\n",
       "      <td>136.79</td>\n",
       "      <td>136.69</td>\n",
       "      <td>136.79</td>\n",
       "      <td>2570</td>\n",
       "    </tr>\n",
       "    <tr>\n",
       "      <th>2021-02-08 09:04:00+00:00</th>\n",
       "      <td>136.53</td>\n",
       "      <td>136.62</td>\n",
       "      <td>136.53</td>\n",
       "      <td>136.62</td>\n",
       "      <td>1533</td>\n",
       "    </tr>\n",
       "    <tr>\n",
       "      <th>2021-02-08 09:05:00+00:00</th>\n",
       "      <td>136.62</td>\n",
       "      <td>136.72</td>\n",
       "      <td>136.62</td>\n",
       "      <td>136.72</td>\n",
       "      <td>1853</td>\n",
       "    </tr>\n",
       "    <tr>\n",
       "      <th>2021-02-08 09:06:00+00:00</th>\n",
       "      <td>136.74</td>\n",
       "      <td>136.88</td>\n",
       "      <td>136.74</td>\n",
       "      <td>136.88</td>\n",
       "      <td>890</td>\n",
       "    </tr>\n",
       "    <tr>\n",
       "      <th>2021-02-08 09:07:00+00:00</th>\n",
       "      <td>136.76</td>\n",
       "      <td>136.76</td>\n",
       "      <td>136.76</td>\n",
       "      <td>136.76</td>\n",
       "      <td>1327</td>\n",
       "    </tr>\n",
       "    <tr>\n",
       "      <th>2021-02-08 09:08:00+00:00</th>\n",
       "      <td>136.89</td>\n",
       "      <td>136.89</td>\n",
       "      <td>136.81</td>\n",
       "      <td>136.83</td>\n",
       "      <td>2265</td>\n",
       "    </tr>\n",
       "    <tr>\n",
       "      <th>2021-02-08 09:09:00+00:00</th>\n",
       "      <td>136.88</td>\n",
       "      <td>136.91</td>\n",
       "      <td>136.88</td>\n",
       "      <td>136.91</td>\n",
       "      <td>896</td>\n",
       "    </tr>\n",
       "  </tbody>\n",
       "</table>\n",
       "</div>"
      ],
      "text/plain": [
       "                             open    high     low   close  volume\n",
       "timestamp                                                        \n",
       "2021-02-08 09:00:00+00:00  136.68  136.80  136.65  136.80   34441\n",
       "2021-02-08 09:01:00+00:00  136.72  136.72  136.66  136.70    2083\n",
       "2021-02-08 09:02:00+00:00  136.63  136.80  136.50  136.80    4741\n",
       "2021-02-08 09:03:00+00:00  136.69  136.79  136.69  136.79    2570\n",
       "2021-02-08 09:04:00+00:00  136.53  136.62  136.53  136.62    1533\n",
       "2021-02-08 09:05:00+00:00  136.62  136.72  136.62  136.72    1853\n",
       "2021-02-08 09:06:00+00:00  136.74  136.88  136.74  136.88     890\n",
       "2021-02-08 09:07:00+00:00  136.76  136.76  136.76  136.76    1327\n",
       "2021-02-08 09:08:00+00:00  136.89  136.89  136.81  136.83    2265\n",
       "2021-02-08 09:09:00+00:00  136.88  136.91  136.88  136.91     896"
      ]
     },
     "execution_count": 21,
     "metadata": {},
     "output_type": "execute_result"
    }
   ],
   "source": [
    "result.head(n=10)"
   ]
  },
  {
   "cell_type": "code",
   "execution_count": 20,
   "id": "cda824ea-d580-4da2-aba2-b592ae6f0a83",
   "metadata": {},
   "outputs": [
    {
     "data": {
      "text/html": [
       "<div>\n",
       "<style scoped>\n",
       "    .dataframe tbody tr th:only-of-type {\n",
       "        vertical-align: middle;\n",
       "    }\n",
       "\n",
       "    .dataframe tbody tr th {\n",
       "        vertical-align: top;\n",
       "    }\n",
       "\n",
       "    .dataframe thead th {\n",
       "        text-align: right;\n",
       "    }\n",
       "</style>\n",
       "<table border=\"1\" class=\"dataframe\">\n",
       "  <thead>\n",
       "    <tr style=\"text-align: right;\">\n",
       "      <th></th>\n",
       "      <th>open</th>\n",
       "      <th>high</th>\n",
       "      <th>low</th>\n",
       "      <th>close</th>\n",
       "      <th>volume</th>\n",
       "    </tr>\n",
       "    <tr>\n",
       "      <th>timestamp</th>\n",
       "      <th></th>\n",
       "      <th></th>\n",
       "      <th></th>\n",
       "      <th></th>\n",
       "      <th></th>\n",
       "    </tr>\n",
       "  </thead>\n",
       "  <tbody>\n",
       "    <tr>\n",
       "      <th>2021-02-09 00:40:00+00:00</th>\n",
       "      <td>136.6500</td>\n",
       "      <td>136.650</td>\n",
       "      <td>136.6200</td>\n",
       "      <td>136.64</td>\n",
       "      <td>525</td>\n",
       "    </tr>\n",
       "    <tr>\n",
       "      <th>2021-02-09 00:41:00+00:00</th>\n",
       "      <td>136.6300</td>\n",
       "      <td>136.630</td>\n",
       "      <td>136.6300</td>\n",
       "      <td>136.63</td>\n",
       "      <td>358</td>\n",
       "    </tr>\n",
       "    <tr>\n",
       "      <th>2021-02-09 00:42:00+00:00</th>\n",
       "      <td>136.6100</td>\n",
       "      <td>136.620</td>\n",
       "      <td>136.6000</td>\n",
       "      <td>136.62</td>\n",
       "      <td>907</td>\n",
       "    </tr>\n",
       "    <tr>\n",
       "      <th>2021-02-09 00:43:00+00:00</th>\n",
       "      <td>136.6000</td>\n",
       "      <td>136.600</td>\n",
       "      <td>136.6000</td>\n",
       "      <td>136.60</td>\n",
       "      <td>930</td>\n",
       "    </tr>\n",
       "    <tr>\n",
       "      <th>2021-02-09 00:44:00+00:00</th>\n",
       "      <td>136.6000</td>\n",
       "      <td>136.600</td>\n",
       "      <td>136.6000</td>\n",
       "      <td>136.60</td>\n",
       "      <td>1607</td>\n",
       "    </tr>\n",
       "    <tr>\n",
       "      <th>2021-02-09 00:45:00+00:00</th>\n",
       "      <td>136.6000</td>\n",
       "      <td>136.600</td>\n",
       "      <td>136.6000</td>\n",
       "      <td>136.60</td>\n",
       "      <td>1372</td>\n",
       "    </tr>\n",
       "    <tr>\n",
       "      <th>2021-02-09 00:46:00+00:00</th>\n",
       "      <td>136.5800</td>\n",
       "      <td>136.580</td>\n",
       "      <td>136.5600</td>\n",
       "      <td>136.56</td>\n",
       "      <td>1182</td>\n",
       "    </tr>\n",
       "    <tr>\n",
       "      <th>2021-02-09 00:47:00+00:00</th>\n",
       "      <td>136.5900</td>\n",
       "      <td>136.590</td>\n",
       "      <td>136.5900</td>\n",
       "      <td>136.59</td>\n",
       "      <td>695</td>\n",
       "    </tr>\n",
       "    <tr>\n",
       "      <th>2021-02-09 00:48:00+00:00</th>\n",
       "      <td>136.5500</td>\n",
       "      <td>136.550</td>\n",
       "      <td>136.5100</td>\n",
       "      <td>136.51</td>\n",
       "      <td>5023</td>\n",
       "    </tr>\n",
       "    <tr>\n",
       "      <th>2021-02-09 00:49:00+00:00</th>\n",
       "      <td>136.5100</td>\n",
       "      <td>136.550</td>\n",
       "      <td>136.5100</td>\n",
       "      <td>136.55</td>\n",
       "      <td>4554</td>\n",
       "    </tr>\n",
       "    <tr>\n",
       "      <th>2021-02-09 00:50:00+00:00</th>\n",
       "      <td>136.5600</td>\n",
       "      <td>136.560</td>\n",
       "      <td>136.5200</td>\n",
       "      <td>136.55</td>\n",
       "      <td>4268</td>\n",
       "    </tr>\n",
       "    <tr>\n",
       "      <th>2021-02-09 00:51:00+00:00</th>\n",
       "      <td>136.5600</td>\n",
       "      <td>136.560</td>\n",
       "      <td>136.5600</td>\n",
       "      <td>136.56</td>\n",
       "      <td>237</td>\n",
       "    </tr>\n",
       "    <tr>\n",
       "      <th>2021-02-09 00:52:00+00:00</th>\n",
       "      <td>136.5500</td>\n",
       "      <td>136.550</td>\n",
       "      <td>136.5300</td>\n",
       "      <td>136.53</td>\n",
       "      <td>1648</td>\n",
       "    </tr>\n",
       "    <tr>\n",
       "      <th>2021-02-09 00:53:00+00:00</th>\n",
       "      <td>136.5300</td>\n",
       "      <td>136.580</td>\n",
       "      <td>136.5299</td>\n",
       "      <td>136.58</td>\n",
       "      <td>8188</td>\n",
       "    </tr>\n",
       "    <tr>\n",
       "      <th>2021-02-09 00:54:00+00:00</th>\n",
       "      <td>136.5800</td>\n",
       "      <td>136.580</td>\n",
       "      <td>136.5600</td>\n",
       "      <td>136.58</td>\n",
       "      <td>4982</td>\n",
       "    </tr>\n",
       "    <tr>\n",
       "      <th>2021-02-09 00:55:00+00:00</th>\n",
       "      <td>136.5800</td>\n",
       "      <td>136.600</td>\n",
       "      <td>136.5700</td>\n",
       "      <td>136.60</td>\n",
       "      <td>3008</td>\n",
       "    </tr>\n",
       "    <tr>\n",
       "      <th>2021-02-09 00:56:00+00:00</th>\n",
       "      <td>136.6000</td>\n",
       "      <td>136.620</td>\n",
       "      <td>136.6000</td>\n",
       "      <td>136.60</td>\n",
       "      <td>2871</td>\n",
       "    </tr>\n",
       "    <tr>\n",
       "      <th>2021-02-09 00:57:00+00:00</th>\n",
       "      <td>136.6001</td>\n",
       "      <td>136.610</td>\n",
       "      <td>136.6000</td>\n",
       "      <td>136.61</td>\n",
       "      <td>2539</td>\n",
       "    </tr>\n",
       "    <tr>\n",
       "      <th>2021-02-09 00:58:00+00:00</th>\n",
       "      <td>136.6000</td>\n",
       "      <td>136.610</td>\n",
       "      <td>136.5700</td>\n",
       "      <td>136.61</td>\n",
       "      <td>2419</td>\n",
       "    </tr>\n",
       "    <tr>\n",
       "      <th>2021-02-09 00:59:00+00:00</th>\n",
       "      <td>136.5900</td>\n",
       "      <td>136.621</td>\n",
       "      <td>136.5900</td>\n",
       "      <td>136.60</td>\n",
       "      <td>5017</td>\n",
       "    </tr>\n",
       "  </tbody>\n",
       "</table>\n",
       "</div>"
      ],
      "text/plain": [
       "                               open     high       low   close  volume\n",
       "timestamp                                                             \n",
       "2021-02-09 00:40:00+00:00  136.6500  136.650  136.6200  136.64     525\n",
       "2021-02-09 00:41:00+00:00  136.6300  136.630  136.6300  136.63     358\n",
       "2021-02-09 00:42:00+00:00  136.6100  136.620  136.6000  136.62     907\n",
       "2021-02-09 00:43:00+00:00  136.6000  136.600  136.6000  136.60     930\n",
       "2021-02-09 00:44:00+00:00  136.6000  136.600  136.6000  136.60    1607\n",
       "2021-02-09 00:45:00+00:00  136.6000  136.600  136.6000  136.60    1372\n",
       "2021-02-09 00:46:00+00:00  136.5800  136.580  136.5600  136.56    1182\n",
       "2021-02-09 00:47:00+00:00  136.5900  136.590  136.5900  136.59     695\n",
       "2021-02-09 00:48:00+00:00  136.5500  136.550  136.5100  136.51    5023\n",
       "2021-02-09 00:49:00+00:00  136.5100  136.550  136.5100  136.55    4554\n",
       "2021-02-09 00:50:00+00:00  136.5600  136.560  136.5200  136.55    4268\n",
       "2021-02-09 00:51:00+00:00  136.5600  136.560  136.5600  136.56     237\n",
       "2021-02-09 00:52:00+00:00  136.5500  136.550  136.5300  136.53    1648\n",
       "2021-02-09 00:53:00+00:00  136.5300  136.580  136.5299  136.58    8188\n",
       "2021-02-09 00:54:00+00:00  136.5800  136.580  136.5600  136.58    4982\n",
       "2021-02-09 00:55:00+00:00  136.5800  136.600  136.5700  136.60    3008\n",
       "2021-02-09 00:56:00+00:00  136.6000  136.620  136.6000  136.60    2871\n",
       "2021-02-09 00:57:00+00:00  136.6001  136.610  136.6000  136.61    2539\n",
       "2021-02-09 00:58:00+00:00  136.6000  136.610  136.5700  136.61    2419\n",
       "2021-02-09 00:59:00+00:00  136.5900  136.621  136.5900  136.60    5017"
      ]
     },
     "execution_count": 20,
     "metadata": {},
     "output_type": "execute_result"
    }
   ],
   "source": [
    "result.tail(n=20)"
   ]
  },
  {
   "cell_type": "markdown",
   "id": "8a4aa563-a5c4-42ac-8a48-1b7cf2c8d6dd",
   "metadata": {},
   "source": [
    "**stream data**"
   ]
  },
  {
   "cell_type": "code",
   "execution_count": 22,
   "id": "57a2721e-6ad8-4d70-85b3-c20038d3a9bd",
   "metadata": {},
   "outputs": [
    {
     "ename": "RuntimeError",
     "evalue": "This event loop is already running",
     "output_type": "error",
     "traceback": [
      "\u001b[0;31m---------------------------------------------------------------------------\u001b[0m",
      "\u001b[0;31mRuntimeError\u001b[0m                              Traceback (most recent call last)",
      "\u001b[0;32m<ipython-input-22-ee10b0f38634>\u001b[0m in \u001b[0;36m<module>\u001b[0;34m\u001b[0m\n\u001b[1;32m     17\u001b[0m \u001b[0mstream\u001b[0m\u001b[0;34m.\u001b[0m\u001b[0msubscribe_quotes\u001b[0m\u001b[0;34m(\u001b[0m\u001b[0mquote_callback\u001b[0m\u001b[0;34m,\u001b[0m \u001b[0;34m'IBM'\u001b[0m\u001b[0;34m)\u001b[0m\u001b[0;34m\u001b[0m\u001b[0;34m\u001b[0m\u001b[0m\n\u001b[1;32m     18\u001b[0m \u001b[0;34m\u001b[0m\u001b[0m\n\u001b[0;32m---> 19\u001b[0;31m \u001b[0mstream\u001b[0m\u001b[0;34m.\u001b[0m\u001b[0mrun\u001b[0m\u001b[0;34m(\u001b[0m\u001b[0;34m)\u001b[0m\u001b[0;34m\u001b[0m\u001b[0;34m\u001b[0m\u001b[0m\n\u001b[0m",
      "\u001b[0;32m/usr/local/lib/python3.8/site-packages/alpaca_trade_api/stream.py\u001b[0m in \u001b[0;36mrun\u001b[0;34m(self)\u001b[0m\n\u001b[1;32m    463\u001b[0m         \u001b[0mloop\u001b[0m \u001b[0;34m=\u001b[0m \u001b[0masyncio\u001b[0m\u001b[0;34m.\u001b[0m\u001b[0mget_event_loop\u001b[0m\u001b[0;34m(\u001b[0m\u001b[0;34m)\u001b[0m\u001b[0;34m\u001b[0m\u001b[0;34m\u001b[0m\u001b[0m\n\u001b[1;32m    464\u001b[0m         \u001b[0;32mtry\u001b[0m\u001b[0;34m:\u001b[0m\u001b[0;34m\u001b[0m\u001b[0;34m\u001b[0m\u001b[0m\n\u001b[0;32m--> 465\u001b[0;31m             \u001b[0mloop\u001b[0m\u001b[0;34m.\u001b[0m\u001b[0mrun_until_complete\u001b[0m\u001b[0;34m(\u001b[0m\u001b[0mself\u001b[0m\u001b[0;34m.\u001b[0m\u001b[0m_run_forever\u001b[0m\u001b[0;34m(\u001b[0m\u001b[0;34m)\u001b[0m\u001b[0;34m)\u001b[0m\u001b[0;34m\u001b[0m\u001b[0;34m\u001b[0m\u001b[0m\n\u001b[0m\u001b[1;32m    466\u001b[0m         \u001b[0;32mexcept\u001b[0m \u001b[0mKeyboardInterrupt\u001b[0m\u001b[0;34m:\u001b[0m\u001b[0;34m\u001b[0m\u001b[0;34m\u001b[0m\u001b[0m\n\u001b[1;32m    467\u001b[0m             \u001b[0mprint\u001b[0m\u001b[0;34m(\u001b[0m\u001b[0;34m'keyboard interrupt, bye'\u001b[0m\u001b[0;34m)\u001b[0m\u001b[0;34m\u001b[0m\u001b[0;34m\u001b[0m\u001b[0m\n",
      "\u001b[0;32m/usr/local/lib/python3.8/asyncio/base_events.py\u001b[0m in \u001b[0;36mrun_until_complete\u001b[0;34m(self, future)\u001b[0m\n\u001b[1;32m    590\u001b[0m         \"\"\"\n\u001b[1;32m    591\u001b[0m         \u001b[0mself\u001b[0m\u001b[0;34m.\u001b[0m\u001b[0m_check_closed\u001b[0m\u001b[0;34m(\u001b[0m\u001b[0;34m)\u001b[0m\u001b[0;34m\u001b[0m\u001b[0;34m\u001b[0m\u001b[0m\n\u001b[0;32m--> 592\u001b[0;31m         \u001b[0mself\u001b[0m\u001b[0;34m.\u001b[0m\u001b[0m_check_running\u001b[0m\u001b[0;34m(\u001b[0m\u001b[0;34m)\u001b[0m\u001b[0;34m\u001b[0m\u001b[0;34m\u001b[0m\u001b[0m\n\u001b[0m\u001b[1;32m    593\u001b[0m \u001b[0;34m\u001b[0m\u001b[0m\n\u001b[1;32m    594\u001b[0m         \u001b[0mnew_task\u001b[0m \u001b[0;34m=\u001b[0m \u001b[0;32mnot\u001b[0m \u001b[0mfutures\u001b[0m\u001b[0;34m.\u001b[0m\u001b[0misfuture\u001b[0m\u001b[0;34m(\u001b[0m\u001b[0mfuture\u001b[0m\u001b[0;34m)\u001b[0m\u001b[0;34m\u001b[0m\u001b[0;34m\u001b[0m\u001b[0m\n",
      "\u001b[0;32m/usr/local/lib/python3.8/asyncio/base_events.py\u001b[0m in \u001b[0;36m_check_running\u001b[0;34m(self)\u001b[0m\n\u001b[1;32m    550\u001b[0m     \u001b[0;32mdef\u001b[0m \u001b[0m_check_running\u001b[0m\u001b[0;34m(\u001b[0m\u001b[0mself\u001b[0m\u001b[0;34m)\u001b[0m\u001b[0;34m:\u001b[0m\u001b[0;34m\u001b[0m\u001b[0;34m\u001b[0m\u001b[0m\n\u001b[1;32m    551\u001b[0m         \u001b[0;32mif\u001b[0m \u001b[0mself\u001b[0m\u001b[0;34m.\u001b[0m\u001b[0mis_running\u001b[0m\u001b[0;34m(\u001b[0m\u001b[0;34m)\u001b[0m\u001b[0;34m:\u001b[0m\u001b[0;34m\u001b[0m\u001b[0;34m\u001b[0m\u001b[0m\n\u001b[0;32m--> 552\u001b[0;31m             \u001b[0;32mraise\u001b[0m \u001b[0mRuntimeError\u001b[0m\u001b[0;34m(\u001b[0m\u001b[0;34m'This event loop is already running'\u001b[0m\u001b[0;34m)\u001b[0m\u001b[0;34m\u001b[0m\u001b[0;34m\u001b[0m\u001b[0m\n\u001b[0m\u001b[1;32m    553\u001b[0m         \u001b[0;32mif\u001b[0m \u001b[0mevents\u001b[0m\u001b[0;34m.\u001b[0m\u001b[0m_get_running_loop\u001b[0m\u001b[0;34m(\u001b[0m\u001b[0;34m)\u001b[0m \u001b[0;32mis\u001b[0m \u001b[0;32mnot\u001b[0m \u001b[0;32mNone\u001b[0m\u001b[0;34m:\u001b[0m\u001b[0;34m\u001b[0m\u001b[0;34m\u001b[0m\u001b[0m\n\u001b[1;32m    554\u001b[0m             raise RuntimeError(\n",
      "\u001b[0;31mRuntimeError\u001b[0m: This event loop is already running"
     ]
    }
   ],
   "source": [
    "async def trade_callback(t):\n",
    "    print('trade', t)\n",
    "\n",
    "\n",
    "async def quote_callback(q):\n",
    "    print('quote', q)\n",
    "\n",
    "\n",
    "# Initiate Class Instance\n",
    "stream = Stream(key_id=config['alpaca_key_id'],\n",
    "                secret_key=config['alpaca_secret_key'],\n",
    "                base_url=URL(config['alpaca_base_url']),\n",
    "                data_feed='iex')  # <- replace to SIP if you have PRO subscription\n",
    "\n",
    "# subscribing to event\n",
    "stream.subscribe_trades(trade_callback, 'AAPL')\n",
    "stream.subscribe_quotes(quote_callback, 'IBM')\n",
    "\n",
    "stream.run()"
   ]
  },
  {
   "cell_type": "code",
   "execution_count": 24,
   "id": "a637d4af-db4c-4dd2-98c8-c783de7cdf6e",
   "metadata": {},
   "outputs": [
    {
     "data": {
      "text/plain": [
       "<function alpaca_trade_api.stream.Stream.on_bar.<locals>.decorator(func)>"
      ]
     },
     "execution_count": 24,
     "metadata": {},
     "output_type": "execute_result"
    }
   ],
   "source": [
    "stream."
   ]
  },
  {
   "cell_type": "code",
   "execution_count": null,
   "id": "160f9399-1349-4380-b982-1e24e1e46659",
   "metadata": {},
   "outputs": [],
   "source": []
  },
  {
   "cell_type": "markdown",
   "id": "f0f3ae3d-8b50-4fbd-92d5-843e40f901ac",
   "metadata": {},
   "source": [
    "### Buy something"
   ]
  },
  {
   "cell_type": "markdown",
   "id": "37374e19-07e9-4ed5-a8b9-2e84fd96d33a",
   "metadata": {},
   "source": [
    "**submit_order**"
   ]
  },
  {
   "cell_type": "code",
   "execution_count": null,
   "id": "bd411bcd-b150-4b3a-b9f8-e866c3e8e720",
   "metadata": {},
   "outputs": [],
   "source": [
    "test = api.submit_order(symbol=\"ATVI\",\n",
    "                        qty=1,\n",
    "                        side=\"buy\",\n",
    "                        type=\"market\",\n",
    "                        time_in_force=\"day\")"
   ]
  },
  {
   "cell_type": "code",
   "execution_count": null,
   "id": "4d2084a1-743d-4bd5-9788-ade8860c14af",
   "metadata": {},
   "outputs": [],
   "source": [
    "test"
   ]
  },
  {
   "cell_type": "markdown",
   "id": "19c4bdd2-950a-4811-b371-e909e74be048",
   "metadata": {},
   "source": [
    "### Sell something"
   ]
  },
  {
   "cell_type": "code",
   "execution_count": null,
   "id": "2ed460f8-34f6-4d68-809b-5120c9b0b66c",
   "metadata": {},
   "outputs": [],
   "source": [
    "test = api.submit_order(symbol=\"ATVI\",\n",
    "                        qty=1,\n",
    "                        side=\"sell\",\n",
    "                        type=\"market\",\n",
    "                        time_in_force=\"day\")"
   ]
  },
  {
   "cell_type": "code",
   "execution_count": null,
   "id": "03d47b23-1589-4a7c-b4ce-6e5bec22d52c",
   "metadata": {},
   "outputs": [],
   "source": []
  },
  {
   "cell_type": "code",
   "execution_count": null,
   "id": "0adaa755-bd65-47d6-8f92-75d9f5b244e0",
   "metadata": {},
   "outputs": [],
   "source": []
  },
  {
   "cell_type": "code",
   "execution_count": null,
   "id": "f5b5125d-ad03-4dea-bd33-8d7f35de09f9",
   "metadata": {},
   "outputs": [],
   "source": [
    "test = api.list_orders(status=\"open\")"
   ]
  },
  {
   "cell_type": "code",
   "execution_count": null,
   "id": "b9c443a6-7465-4afe-b69e-a7fc6eaf4ad8",
   "metadata": {},
   "outputs": [],
   "source": [
    "len(test)"
   ]
  },
  {
   "cell_type": "code",
   "execution_count": null,
   "id": "559c3271-f86a-4b4f-85a7-58964b97a428",
   "metadata": {},
   "outputs": [],
   "source": [
    "test = api.list_positions()"
   ]
  },
  {
   "cell_type": "code",
   "execution_count": null,
   "id": "1cbb0e63-aedd-4f7f-bbf6-ba8912cea74c",
   "metadata": {},
   "outputs": [],
   "source": [
    "len(test)"
   ]
  },
  {
   "cell_type": "code",
   "execution_count": null,
   "id": "792036b1-9cdc-43ff-86b0-0b360f778c00",
   "metadata": {},
   "outputs": [],
   "source": []
  },
  {
   "cell_type": "code",
   "execution_count": null,
   "id": "2fd1f8a1-72e8-4063-ac59-e3f08c2738de",
   "metadata": {},
   "outputs": [],
   "source": [
    "api.list_assets()"
   ]
  },
  {
   "cell_type": "code",
   "execution_count": null,
   "id": "554b555f-df7a-4df7-87e3-8178b6e9ff4d",
   "metadata": {},
   "outputs": [],
   "source": []
  },
  {
   "cell_type": "code",
   "execution_count": null,
   "id": "72718b1f-86ce-40fb-8829-ba165e464228",
   "metadata": {},
   "outputs": [],
   "source": []
  },
  {
   "cell_type": "code",
   "execution_count": null,
   "id": "2916b398-2578-47f3-b8e5-d82d89cb9eaa",
   "metadata": {},
   "outputs": [],
   "source": []
  },
  {
   "cell_type": "markdown",
   "id": "18deeee9-1ab9-4b0e-8a60-0bf5c0b05600",
   "metadata": {},
   "source": [
    "***"
   ]
  },
  {
   "cell_type": "markdown",
   "id": "3bbe9e81-84da-4e95-bdda-3954c0522bca",
   "metadata": {},
   "source": [
    "## Development\n",
    "\n",
    "Functions that will transfer to code"
   ]
  },
  {
   "cell_type": "code",
   "execution_count": null,
   "id": "01d45663-3d96-460c-b497-88ae3b876ec1",
   "metadata": {},
   "outputs": [],
   "source": []
  }
 ],
 "metadata": {
  "kernelspec": {
   "display_name": "Python 3",
   "language": "python",
   "name": "python3"
  },
  "language_info": {
   "codemirror_mode": {
    "name": "ipython",
    "version": 3
   },
   "file_extension": ".py",
   "mimetype": "text/x-python",
   "name": "python",
   "nbconvert_exporter": "python",
   "pygments_lexer": "ipython3",
   "version": "3.8.10"
  }
 },
 "nbformat": 4,
 "nbformat_minor": 5
}
